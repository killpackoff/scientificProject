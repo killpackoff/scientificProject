{
 "cells": [
  {
   "metadata": {},
   "cell_type": "markdown",
   "source": "#### Тут импорты",
   "id": "9aeaa5e1565fde36"
  },
  {
   "cell_type": "code",
   "id": "initial_id",
   "metadata": {
    "collapsed": true,
    "ExecuteTime": {
     "end_time": "2024-11-04T10:13:45.608426Z",
     "start_time": "2024-11-04T10:13:44.957180Z"
    }
   },
   "source": [
    "import json\n",
    "import pandas as pd\n"
   ],
   "outputs": [],
   "execution_count": 2
  },
  {
   "metadata": {},
   "cell_type": "markdown",
   "source": "#### Читаем данные",
   "id": "77fbcc4a20088485"
  },
  {
   "metadata": {
    "ExecuteTime": {
     "end_time": "2024-11-04T10:14:03.028709Z",
     "start_time": "2024-11-04T10:14:03.025082Z"
    }
   },
   "cell_type": "code",
   "source": [
    "# Open and read the JSON file\n",
    "def readData():\n",
    "    with open('data/test1.json', 'r') as file:\n",
    "        return json.load(file)"
   ],
   "id": "7921f1dc55af0d3c",
   "outputs": [],
   "execution_count": 5
  },
  {
   "metadata": {
    "ExecuteTime": {
     "end_time": "2024-11-04T10:14:04.256035Z",
     "start_time": "2024-11-04T10:14:04.252124Z"
    }
   },
   "cell_type": "code",
   "outputs": [
    {
     "name": "stdout",
     "output_type": "stream",
     "text": [
      "{'class': [1, 2, 3, 3, 3, 3, 3]}\n"
     ]
    }
   ],
   "execution_count": 6,
   "source": [
    "data = readData()\n",
    "print(data)"
   ],
   "id": "275181cad7d0a64b"
  },
  {
   "metadata": {},
   "cell_type": "markdown",
   "source": "#### Рисуем таблицу",
   "id": "592c12eb808c2898"
  },
  {
   "metadata": {
    "ExecuteTime": {
     "end_time": "2024-11-04T10:14:07.070902Z",
     "start_time": "2024-11-04T10:14:06.526316Z"
    }
   },
   "cell_type": "code",
   "source": [
    "df = pd.DataFrame(data)\n",
    "\n",
    "df.style "
   ],
   "id": "b1e68986fd35c26e",
   "outputs": [
    {
     "data": {
      "text/plain": [
       "<pandas.io.formats.style.Styler at 0x1e2db847f20>"
      ],
      "text/html": [
       "<style type=\"text/css\">\n",
       "</style>\n",
       "<table id=\"T_8aacd\">\n",
       "  <thead>\n",
       "    <tr>\n",
       "      <th class=\"blank level0\" >&nbsp;</th>\n",
       "      <th id=\"T_8aacd_level0_col0\" class=\"col_heading level0 col0\" >class</th>\n",
       "    </tr>\n",
       "  </thead>\n",
       "  <tbody>\n",
       "    <tr>\n",
       "      <th id=\"T_8aacd_level0_row0\" class=\"row_heading level0 row0\" >0</th>\n",
       "      <td id=\"T_8aacd_row0_col0\" class=\"data row0 col0\" >1</td>\n",
       "    </tr>\n",
       "    <tr>\n",
       "      <th id=\"T_8aacd_level0_row1\" class=\"row_heading level0 row1\" >1</th>\n",
       "      <td id=\"T_8aacd_row1_col0\" class=\"data row1 col0\" >2</td>\n",
       "    </tr>\n",
       "    <tr>\n",
       "      <th id=\"T_8aacd_level0_row2\" class=\"row_heading level0 row2\" >2</th>\n",
       "      <td id=\"T_8aacd_row2_col0\" class=\"data row2 col0\" >3</td>\n",
       "    </tr>\n",
       "    <tr>\n",
       "      <th id=\"T_8aacd_level0_row3\" class=\"row_heading level0 row3\" >3</th>\n",
       "      <td id=\"T_8aacd_row3_col0\" class=\"data row3 col0\" >3</td>\n",
       "    </tr>\n",
       "    <tr>\n",
       "      <th id=\"T_8aacd_level0_row4\" class=\"row_heading level0 row4\" >4</th>\n",
       "      <td id=\"T_8aacd_row4_col0\" class=\"data row4 col0\" >3</td>\n",
       "    </tr>\n",
       "    <tr>\n",
       "      <th id=\"T_8aacd_level0_row5\" class=\"row_heading level0 row5\" >5</th>\n",
       "      <td id=\"T_8aacd_row5_col0\" class=\"data row5 col0\" >3</td>\n",
       "    </tr>\n",
       "    <tr>\n",
       "      <th id=\"T_8aacd_level0_row6\" class=\"row_heading level0 row6\" >6</th>\n",
       "      <td id=\"T_8aacd_row6_col0\" class=\"data row6 col0\" >3</td>\n",
       "    </tr>\n",
       "  </tbody>\n",
       "</table>\n"
      ]
     },
     "execution_count": 7,
     "metadata": {},
     "output_type": "execute_result"
    }
   ],
   "execution_count": 7
  }
 ],
 "metadata": {
  "kernelspec": {
   "display_name": "Python 3",
   "language": "python",
   "name": "python3"
  },
  "language_info": {
   "codemirror_mode": {
    "name": "ipython",
    "version": 2
   },
   "file_extension": ".py",
   "mimetype": "text/x-python",
   "name": "python",
   "nbconvert_exporter": "python",
   "pygments_lexer": "ipython2",
   "version": "2.7.6"
  }
 },
 "nbformat": 4,
 "nbformat_minor": 5
}
